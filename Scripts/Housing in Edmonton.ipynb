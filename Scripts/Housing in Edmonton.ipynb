{
 "cells": [
  {
   "cell_type": "markdown",
   "metadata": {},
   "source": [
    "# HOUSING IN EDMONTON\n",
    "---\n",
    "### **Business Problem** \n",
    "\n",
    "Real estate is one of the most profitable businesses in the 21st century. An investor wants to build an apartment in \n",
    "Edmonton area purposely to rent out. Now, it is assumed that rent rates in Edmonton are affected by specific Neighborhood features. These are listed in order of importance as follows: \n",
    "1. Security perception\n",
    "2. Proximity to transit stations\n",
    "3. Supermarkets and Shopping malls \n",
    "4. Recreational parks\n",
    "5. Hospitals\n",
    "6. Schools\n",
    "\n",
    "Due to how sparsely these factors are located it has become an issue for the investor to determine which neighborhood to build the apartment. The investor therefore is seeking for a way to model the city in order to rank which residential area has on average a greater proportion of these features more attached to it. \n",
    "\n",
    "The investor is not certain of which neighborhood to build the apartment. We have been tasked to make a recommendation about which neighborhood will be most profitable. \n",
    "\n",
    "\n",
    "### **Data**\n",
    "\n",
    "Data for neighborhoods in Edmonton will be scrapped from [Wikipedia](https://en.wikipedia.org/wiki/List_of_neighbourhoods_in_Edmonton).  Our focus will be on residential neighborhoods with a population density greater than the mean popoulation density in Edmonton. This is to consider the effect population plays in determining rent rate.  We will use geocoder to further append geographical coordinates to the neighborhoods.\n",
    "\n",
    "Also, we will export data from [City of Edmonton](https://dashboard.edmonton.ca/dataset/EPS-Neighbourhood-Criminal-Occurrences/xthe-mnvi/data) on occurence of crime in each neighborhood to cater for the security preception variable. This data contains crime in each neighborhood from 2009 to 2019. We will sum occurence of crime by neighborhood to get the crime score for each neighborhood  \n",
    "\n",
    "In order to explore the various venues in Edmonton, we will use Foursquare location data to explore venues to aid us in clustering the residential neighborhoods with potential of high rate of investment. We will focus on venues related to transit stations, supermarkets and shopping malls, recreational parks, hospitals and schools. \n",
    "\n",
    "K-means algorithm will be employed in our study to cluster neighborhoods. In order to make an informed decision, we will now apply scores to the various features as displayed in the table below and assign weights according how common these venues can be found in the neighborhoods. We will furthermore find the inverse of the crime score and normalize it. Finally we will sum up the scores and then rank clusters according to the total score we gain. The cluster with the highest rank is what we will advice the investor to go for. \n",
    "\n",
    "Neighborhood Feature | Score \n",
    "---|---\n",
    "Proximity to transit stations| 5\n",
    "Supermarkets and Shopping malls | 4 \n",
    "Recreational parks | 3 \n",
    "Hospitals | 2\n",
    "Schools | 1 "
   ]
  },
  {
   "cell_type": "code",
   "execution_count": null,
   "metadata": {},
   "outputs": [],
   "source": []
  }
 ],
 "metadata": {
  "kernelspec": {
   "display_name": "Python",
   "language": "python",
   "name": "conda-env-python-py"
  },
  "language_info": {
   "codemirror_mode": {
    "name": "ipython",
    "version": 3
   },
   "file_extension": ".py",
   "mimetype": "text/x-python",
   "name": "python",
   "nbconvert_exporter": "python",
   "pygments_lexer": "ipython3",
   "version": "3.6.11"
  }
 },
 "nbformat": 4,
 "nbformat_minor": 4
}
